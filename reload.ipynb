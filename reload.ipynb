{
 "cells": [
  {
   "cell_type": "code",
   "execution_count": 2,
   "metadata": {},
   "outputs": [
    {
     "data": {
      "text/plain": [
       "<module 'cnn_from_scratch.model' from '/Users/idchiang/working/cnn_from_scratch/cnn_from_scratch/model.py'>"
      ]
     },
     "execution_count": 2,
     "metadata": {},
     "output_type": "execute_result"
    }
   ],
   "source": [
    "from importlib import reload\n",
    "from cnn_from_scratch import activation_function\n",
    "from cnn_from_scratch import loss_function\n",
    "from cnn_from_scratch import neuron\n",
    "from cnn_from_scratch import model\n",
    "from cnn_from_scratch import layer\n",
    "reload(activation_function)\n",
    "reload(loss_function)\n",
    "reload(neuron)\n",
    "reload(layer)\n",
    "reload(model)"
   ]
  }
 ],
 "metadata": {
  "kernelspec": {
   "display_name": "mbp-py311",
   "language": "python",
   "name": "python3"
  },
  "language_info": {
   "codemirror_mode": {
    "name": "ipython",
    "version": 3
   },
   "file_extension": ".py",
   "mimetype": "text/x-python",
   "name": "python",
   "nbconvert_exporter": "python",
   "pygments_lexer": "ipython3",
   "version": "3.11.6"
  }
 },
 "nbformat": 4,
 "nbformat_minor": 2
}
